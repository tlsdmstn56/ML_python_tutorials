{
 "cells": [
  {
   "cell_type": "markdown",
   "metadata": {},
   "source": [
    "모든 내용은 [Keras Documentation](https://keras.io/) 를 참고하였음"
   ]
  },
  {
   "cell_type": "markdown",
   "metadata": {},
   "source": [
    "# 목차\n",
    "***"
   ]
  },
  {
   "cell_type": "markdown",
   "metadata": {},
   "source": [
    "# Sequential Model 시작하기\n",
    "***\n",
    "_Sequential_ 모델: 레이어의 선형 스택"
   ]
  },
  {
   "cell_type": "markdown",
   "metadata": {},
   "source": [
    "## 간단한 예제"
   ]
  },
  {
   "cell_type": "code",
   "execution_count": 3,
   "metadata": {},
   "outputs": [
    {
     "name": "stderr",
     "output_type": "stream",
     "text": [
      "Using TensorFlow backend.\n"
     ]
    }
   ],
   "source": [
    "# 모델 생성/ 파라미터 넘기기\n",
    "from keras.models import Sequential\n",
    "from keras.layers import Dense, Activation\n",
    "\n",
    "model = Sequential([\n",
    "    Dense(32, input_shape=(784,)),\n",
    "    Activation('relu'),\n",
    "    Dense(10),\n",
    "    Activation('softmax'),\n",
    "])\n",
    "# 직접 constructor에 파라미터를 넘김으로써 모델 생성 가능\n",
    "# Dense: input wire의 dimension을 설정\n",
    "# Acitivation: 레이어의 activation함수를 설정"
   ]
  },
  {
   "cell_type": "code",
   "execution_count": null,
   "metadata": {
    "collapsed": true
   },
   "outputs": [],
   "source": [
    "# model.add 메소드를 통해 추가할 수도 있다. 위 코드와 strictly equivalent 하다고 한다.\n",
    "model = Sequential()\n",
    "model.add(Dense(32, input_dim=784))\n",
    "model.add(Activation('relu'))"
   ]
  },
  {
   "cell_type": "markdown",
   "metadata": {},
   "source": [
    "## Input Shape 지정하기\n",
    "모델은 input shape을 알아야 한다. 따라서 모델의 첫 레이어(첫 번째만, 그 이후는 자동적으로 추론함)는 input shape에 대한 정보를 받아야 한다. 가능한 방법은 아래와 같다.\n",
    "\n",
    "1. 첫 레이어에 *input_shape* 인수(argument)를 튜플 형태로 지정\n",
    "2. 2D 레이어에 대해(e.g. *Dense*) *input_dim* 인수를, 3D 입력 레이어에 대해 *input_dim*과 *input_length* 인수를 지정\n",
    "3. 고정된 배치 사이즈를 지정해야 하는 경우, *batch_size* 인수를 레이어에 넘길 수 있다. 예를 들어 (*batch_size=32*와 *input_shape=(6,8)* 인수를 레이어에 넘기는 경우 배치 shape은 *(32,6,8)*이 된다."
   ]
  },
  {
   "cell_type": "code",
   "execution_count": 4,
   "metadata": {
    "collapsed": true
   },
   "outputs": [],
   "source": [
    "# 1번 예시\n",
    "model = Sequential()\n",
    "model.add(Dense(32, input_shape=(784,)))"
   ]
  },
  {
   "cell_type": "code",
   "execution_count": 6,
   "metadata": {
    "collapsed": true
   },
   "outputs": [],
   "source": [
    "#2번 예시\n",
    "model = Sequential()\n",
    "model.add(Dense(32, input_dim=784))"
   ]
  },
  {
   "cell_type": "markdown",
   "metadata": {},
   "source": [
    "## 모델 컴파일\n",
    "모델을 training하기 전에 compile 메소드를 통해 컴파일 해야 한다. compile 메소드는 3 가지 인수를 받는다.\n",
    "* optimizer: *optimizer*의 이름을 문자열로 넘기거나 <code class=\"keras\">Optimizer</code> 클래스의 인스턴스를 넘겨도 된다. [optimizer doc](https://keras.io/optimizers) 참고\n",
    "* loss function: 모델이 최소화하는 함수. 문자열을 넘기거나 objective function을 넘길 수 있다. [losses doc](https://keras.io/losses) 참고\n",
    "* a list of metrics: 어떤 종류의 분류 문제든 <code class=\"keras\">metrics=['accuracy']</code>을 사용할 수 있다. 이미 존재하는 metric의 문자열 또는 직접 metric함수를 만들어 넘길 수 있다."
   ]
  },
  {
   "cell_type": "code",
   "execution_count": 4,
   "metadata": {},
   "outputs": [],
   "source": [
    "# For a multi-class classification problem\n",
    "model.compile(optimizer='rmsprop',\n",
    "              loss='categorical_crossentropy',\n",
    "              metrics=['accuracy'])"
   ]
  },
  {
   "cell_type": "code",
   "execution_count": 5,
   "metadata": {
    "collapsed": true
   },
   "outputs": [],
   "source": [
    "# For a binary classification problem\n",
    "model.compile(optimizer='rmsprop',\n",
    "              loss='binary_crossentropy',\n",
    "              metrics=['accuracy'])"
   ]
  },
  {
   "cell_type": "code",
   "execution_count": null,
   "metadata": {
    "collapsed": true
   },
   "outputs": [],
   "source": [
    "# For a mean squared error regression problem\n",
    "model.compile(optimizer='rmsprop',\n",
    "              loss='mse')"
   ]
  },
  {
   "cell_type": "code",
   "execution_count": null,
   "metadata": {
    "collapsed": true
   },
   "outputs": [],
   "source": [
    "# For custom metrics\n",
    "import keras.backend as K\n",
    "\n",
    "def mean_pred(y_true, y_pred):\n",
    "    return K.mean(y_pred)\n",
    "\n",
    "model.compile(optimizer='rmsprop',\n",
    "              loss='binary_crossentropy',\n",
    "              metrics=['accuracy', mean_pred])"
   ]
  }
 ],
 "metadata": {
  "kernelspec": {
   "display_name": "Python 3",
   "language": "python",
   "name": "python3"
  },
  "language_info": {
   "codemirror_mode": {
    "name": "ipython",
    "version": 3
   },
   "file_extension": ".py",
   "mimetype": "text/x-python",
   "name": "python",
   "nbconvert_exporter": "python",
   "pygments_lexer": "ipython3",
   "version": "3.5.2"
  }
 },
 "nbformat": 4,
 "nbformat_minor": 2
}
