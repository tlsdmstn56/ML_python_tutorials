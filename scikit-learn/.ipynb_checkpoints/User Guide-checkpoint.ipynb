{
 "cells": [
  {
   "cell_type": "markdown",
   "metadata": {
    "toc": true
   },
   "source": [
    "<h1>Table of Contents<span class=\"tocSkip\"></span></h1>\n",
    "<div class=\"toc\"><ul class=\"toc-item\"><li><span><a href=\"#Supervised-Learning\" data-toc-modified-id=\"Supervised-Learning-1\"><span class=\"toc-item-num\">1&nbsp;&nbsp;</span>Supervised Learning</a></span><ul class=\"toc-item\"><li><span><a href=\"#GLM(General-Linear-Model)\" data-toc-modified-id=\"GLM(General-Linear-Model)-1.1\"><span class=\"toc-item-num\">1.1&nbsp;&nbsp;</span>GLM(General Linear Model)</a></span><ul class=\"toc-item\"><li><span><a href=\"#Ordinary-Least-Square\" data-toc-modified-id=\"Ordinary-Least-Square-1.1.1\"><span class=\"toc-item-num\">1.1.1&nbsp;&nbsp;</span>Ordinary Least Square</a></span></li><li><span><a href=\"#Ridge-Regression\" data-toc-modified-id=\"Ridge-Regression-1.1.2\"><span class=\"toc-item-num\">1.1.2&nbsp;&nbsp;</span>Ridge Regression</a></span></li><li><span><a href=\"#Lasso\" data-toc-modified-id=\"Lasso-1.1.3\"><span class=\"toc-item-num\">1.1.3&nbsp;&nbsp;</span>Lasso</a></span></li><li><span><a href=\"#Multi-task-Lasso\" data-toc-modified-id=\"Multi-task-Lasso-1.1.4\"><span class=\"toc-item-num\">1.1.4&nbsp;&nbsp;</span>Multi-task Lasso</a></span></li><li><span><a href=\"#Elastic-Net\" data-toc-modified-id=\"Elastic-Net-1.1.5\"><span class=\"toc-item-num\">1.1.5&nbsp;&nbsp;</span>Elastic Net</a></span></li><li><span><a href=\"#Multi-task-Elastic-Net\" data-toc-modified-id=\"Multi-task-Elastic-Net-1.1.6\"><span class=\"toc-item-num\">1.1.6&nbsp;&nbsp;</span>Multi-task Elastic Net</a></span></li><li><span><a href=\"#Least-Angle-Regression\" data-toc-modified-id=\"Least-Angle-Regression-1.1.7\"><span class=\"toc-item-num\">1.1.7&nbsp;&nbsp;</span>Least Angle Regression</a></span></li><li><span><a href=\"#LARS-Lasso\" data-toc-modified-id=\"LARS-Lasso-1.1.8\"><span class=\"toc-item-num\">1.1.8&nbsp;&nbsp;</span>LARS Lasso</a></span></li><li><span><a href=\"#Orthogonal-Matching-Pursuit-(OMP)\" data-toc-modified-id=\"Orthogonal-Matching-Pursuit-(OMP)-1.1.9\"><span class=\"toc-item-num\">1.1.9&nbsp;&nbsp;</span>Orthogonal Matching Pursuit (OMP)</a></span></li><li><span><a href=\"#Bayesian-Regression\" data-toc-modified-id=\"Bayesian-Regression-1.1.10\"><span class=\"toc-item-num\">1.1.10&nbsp;&nbsp;</span>Bayesian Regression</a></span></li><li><span><a href=\"#Logistic-regression\" data-toc-modified-id=\"Logistic-regression-1.1.11\"><span class=\"toc-item-num\">1.1.11&nbsp;&nbsp;</span>Logistic regression</a></span></li><li><span><a href=\"#Stochastic-Gradient-Descent---SGD\" data-toc-modified-id=\"Stochastic-Gradient-Descent---SGD-1.1.12\"><span class=\"toc-item-num\">1.1.12&nbsp;&nbsp;</span>Stochastic Gradient Descent - SGD</a></span></li><li><span><a href=\"#Perceptron\" data-toc-modified-id=\"Perceptron-1.1.13\"><span class=\"toc-item-num\">1.1.13&nbsp;&nbsp;</span>Perceptron</a></span></li><li><span><a href=\"#Passive-Aggressive-Algorithms\" data-toc-modified-id=\"Passive-Aggressive-Algorithms-1.1.14\"><span class=\"toc-item-num\">1.1.14&nbsp;&nbsp;</span>Passive Aggressive Algorithms</a></span></li><li><span><a href=\"#Robustness-regression:-outliers-and-modeling-errors\" data-toc-modified-id=\"Robustness-regression:-outliers-and-modeling-errors-1.1.15\"><span class=\"toc-item-num\">1.1.15&nbsp;&nbsp;</span>Robustness regression: outliers and modeling errors</a></span></li><li><span><a href=\"#Polynomial-regression:-extending-linear-models-with-basis-functions\" data-toc-modified-id=\"Polynomial-regression:-extending-linear-models-with-basis-functions-1.1.16\"><span class=\"toc-item-num\">1.1.16&nbsp;&nbsp;</span>Polynomial regression: extending linear models with basis functions</a></span></li></ul></li><li><span><a href=\"#Linear-and-Quadratic-Discriminant-Analysis\" data-toc-modified-id=\"Linear-and-Quadratic-Discriminant-Analysis-1.2\"><span class=\"toc-item-num\">1.2&nbsp;&nbsp;</span>Linear and Quadratic Discriminant Analysis</a></span><ul class=\"toc-item\"><li><span><a href=\"#Dimensionality-reduction-using-Linear-Discriminant-Analysis\" data-toc-modified-id=\"Dimensionality-reduction-using-Linear-Discriminant-Analysis-1.2.1\"><span class=\"toc-item-num\">1.2.1&nbsp;&nbsp;</span>Dimensionality reduction using Linear Discriminant Analysis</a></span></li><li><span><a href=\"#Mathematical-formulation-of-the-LDA-and-QDA-classifiers\" data-toc-modified-id=\"Mathematical-formulation-of-the-LDA-and-QDA-classifiers-1.2.2\"><span class=\"toc-item-num\">1.2.2&nbsp;&nbsp;</span>Mathematical formulation of the LDA and QDA classifiers</a></span></li><li><span><a href=\"#Mathematical-formulation-of-LDA-dimensionality-reduction\" data-toc-modified-id=\"Mathematical-formulation-of-LDA-dimensionality-reduction-1.2.3\"><span class=\"toc-item-num\">1.2.3&nbsp;&nbsp;</span>Mathematical formulation of LDA dimensionality reduction</a></span></li><li><span><a href=\"#Shrinkage\" data-toc-modified-id=\"Shrinkage-1.2.4\"><span class=\"toc-item-num\">1.2.4&nbsp;&nbsp;</span>Shrinkage</a></span></li><li><span><a href=\"#Estimation-algorithms\" data-toc-modified-id=\"Estimation-algorithms-1.2.5\"><span class=\"toc-item-num\">1.2.5&nbsp;&nbsp;</span>Estimation algorithms</a></span></li></ul></li></ul></li></ul></div>"
   ]
  },
  {
   "cell_type": "markdown",
   "metadata": {},
   "source": [
    "[User Guide](http://scikit-learn.org/stable/user_guide.html) 참고 틈틈히 정리하자\n",
    "# Supervised Learning"
   ]
  },
  {
   "cell_type": "markdown",
   "metadata": {},
   "source": [
    "## GLM(General Linear Model)"
   ]
  },
  {
   "cell_type": "markdown",
   "metadata": {},
   "source": [
    "### Ordinary Least Square"
   ]
  },
  {
   "cell_type": "markdown",
   "metadata": {},
   "source": [
    "### Ridge Regression"
   ]
  },
  {
   "cell_type": "markdown",
   "metadata": {},
   "source": [
    "### Lasso"
   ]
  },
  {
   "cell_type": "markdown",
   "metadata": {},
   "source": [
    "### Multi-task Lasso"
   ]
  },
  {
   "cell_type": "markdown",
   "metadata": {},
   "source": [
    "### Elastic Net "
   ]
  },
  {
   "cell_type": "markdown",
   "metadata": {},
   "source": [
    "### Multi-task Elastic Net"
   ]
  },
  {
   "cell_type": "markdown",
   "metadata": {},
   "source": [
    "### Least Angle Regression"
   ]
  },
  {
   "cell_type": "markdown",
   "metadata": {},
   "source": [
    "### LARS Lasso"
   ]
  },
  {
   "cell_type": "markdown",
   "metadata": {},
   "source": [
    "### Orthogonal Matching Pursuit (OMP)"
   ]
  },
  {
   "cell_type": "markdown",
   "metadata": {},
   "source": [
    "### Bayesian Regression"
   ]
  },
  {
   "cell_type": "markdown",
   "metadata": {},
   "source": [
    "### Logistic regression"
   ]
  },
  {
   "cell_type": "markdown",
   "metadata": {},
   "source": [
    "### Stochastic Gradient Descent - SGD"
   ]
  },
  {
   "cell_type": "markdown",
   "metadata": {},
   "source": [
    "### Perceptron"
   ]
  },
  {
   "cell_type": "markdown",
   "metadata": {},
   "source": [
    "### Passive Aggressive Algorithms"
   ]
  },
  {
   "cell_type": "markdown",
   "metadata": {},
   "source": [
    "### Robustness regression: outliers and modeling errors"
   ]
  },
  {
   "cell_type": "markdown",
   "metadata": {},
   "source": [
    "### Polynomial regression: extending linear models with basis functions"
   ]
  },
  {
   "cell_type": "markdown",
   "metadata": {},
   "source": [
    "## Linear and Quadratic Discriminant Analysis"
   ]
  },
  {
   "cell_type": "markdown",
   "metadata": {},
   "source": [
    "### Dimensionality reduction using Linear Discriminant Analysis"
   ]
  },
  {
   "cell_type": "markdown",
   "metadata": {},
   "source": [
    "### Mathematical formulation of the LDA and QDA classifiers"
   ]
  },
  {
   "cell_type": "markdown",
   "metadata": {},
   "source": [
    "### Mathematical formulation of LDA dimensionality reduction"
   ]
  },
  {
   "cell_type": "markdown",
   "metadata": {},
   "source": [
    "### Shrinkage"
   ]
  },
  {
   "cell_type": "markdown",
   "metadata": {},
   "source": [
    "### Estimation algorithms"
   ]
  }
 ],
 "metadata": {
  "kernelspec": {
   "display_name": "Python 3",
   "language": "python",
   "name": "python3"
  },
  "language_info": {
   "codemirror_mode": {
    "name": "ipython",
    "version": 3
   },
   "file_extension": ".py",
   "mimetype": "text/x-python",
   "name": "python",
   "nbconvert_exporter": "python",
   "pygments_lexer": "ipython3",
   "version": "3.5.2"
  },
  "toc": {
   "nav_menu": {},
   "number_sections": true,
   "sideBar": true,
   "skip_h1_title": false,
   "title_cell": "Table of Contents",
   "title_sidebar": "Contents",
   "toc_cell": true,
   "toc_position": {},
   "toc_section_display": true,
   "toc_window_display": false
  }
 },
 "nbformat": 4,
 "nbformat_minor": 2
}
