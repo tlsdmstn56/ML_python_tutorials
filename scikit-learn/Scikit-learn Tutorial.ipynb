{
 "cells": [
  {
   "cell_type": "markdown",
   "metadata": {
    "toc": true
   },
   "source": [
    "<h1>목차<span class=\"tocSkip\"></span></h1>\n",
    "<div class=\"toc\"><ul class=\"toc-item\"><li><span><a href=\"#scikit-learn을-이용한-머신러닝-소개\" data-toc-modified-id=\"scikit-learn을-이용한-머신러닝-소개-1\"><span class=\"toc-item-num\">1&nbsp;&nbsp;</span>scikit-learn을 이용한 머신러닝 소개</a></span><ul class=\"toc-item\"><li><span><a href=\"#예제-데이터셋-로드\" data-toc-modified-id=\"예제-데이터셋-로드-1.1\"><span class=\"toc-item-num\">1.1&nbsp;&nbsp;</span>예제 데이터셋 로드</a></span><ul class=\"toc-item\"><li><span><a href=\"#Data-array의-형태\" data-toc-modified-id=\"Data-array의-형태-1.1.1\"><span class=\"toc-item-num\">1.1.1&nbsp;&nbsp;</span>Data array의 형태</a></span></li><li><span><a href=\"#외부에서-데이터셋-부르기\" data-toc-modified-id=\"외부에서-데이터셋-부르기-1.1.2\"><span class=\"toc-item-num\">1.1.2&nbsp;&nbsp;</span>외부에서 데이터셋 부르기</a></span></li></ul></li><li><span><a href=\"#Learning과-Predicting\" data-toc-modified-id=\"Learning과-Predicting-1.2\"><span class=\"toc-item-num\">1.2&nbsp;&nbsp;</span>Learning과 Predicting</a></span></li><li><span><a href=\"#Model-persistence\" data-toc-modified-id=\"Model-persistence-1.3\"><span class=\"toc-item-num\">1.3&nbsp;&nbsp;</span>Model persistence</a></span></li><li><span><a href=\"#컨벤션\" data-toc-modified-id=\"컨벤션-1.4\"><span class=\"toc-item-num\">1.4&nbsp;&nbsp;</span>컨벤션</a></span><ul class=\"toc-item\"><li><span><a href=\"#타입-캐스팅\" data-toc-modified-id=\"타입-캐스팅-1.4.1\"><span class=\"toc-item-num\">1.4.1&nbsp;&nbsp;</span>타입 캐스팅</a></span></li><li><span><a href=\"#Fitting-다시하기와-파라미터-업데이트\" data-toc-modified-id=\"Fitting-다시하기와-파라미터-업데이트-1.4.2\"><span class=\"toc-item-num\">1.4.2&nbsp;&nbsp;</span>Fitting 다시하기와 파라미터 업데이트</a></span></li></ul></li><li><span><a href=\"#Multiclass-vs-Multilabel-fitting\" data-toc-modified-id=\"Multiclass-vs-Multilabel-fitting-1.5\"><span class=\"toc-item-num\">1.5&nbsp;&nbsp;</span>Multiclass vs Multilabel fitting</a></span></li></ul></li><li><span><a href=\"#Tutorial-on-statistical-learning-for-scientific-data-processing\" data-toc-modified-id=\"Tutorial-on-statistical-learning-for-scientific-data-processing-2\"><span class=\"toc-item-num\">2&nbsp;&nbsp;</span>Tutorial on statistical-learning for scientific data processing</a></span><ul class=\"toc-item\"><li><span><a href=\"#Statistical-Learning:-세팅과-Estimator-객체\" data-toc-modified-id=\"Statistical-Learning:-세팅과-Estimator-객체-2.1\"><span class=\"toc-item-num\">2.1&nbsp;&nbsp;</span>Statistical Learning: 세팅과 Estimator 객체</a></span><ul class=\"toc-item\"><li><span><a href=\"#데이터셋\" data-toc-modified-id=\"데이터셋-2.1.1\"><span class=\"toc-item-num\">2.1.1&nbsp;&nbsp;</span>데이터셋</a></span></li><li><span><a href=\"#Estimator-objects\" data-toc-modified-id=\"Estimator-objects-2.1.2\"><span class=\"toc-item-num\">2.1.2&nbsp;&nbsp;</span>Estimator objects</a></span><ul class=\"toc-item\"><li><span><a href=\"#Fitting-Data\" data-toc-modified-id=\"Fitting-Data-2.1.2.1\"><span class=\"toc-item-num\">2.1.2.1&nbsp;&nbsp;</span>Fitting Data</a></span></li><li><span><a href=\"#Estimator-파라미터\" data-toc-modified-id=\"Estimator-파라미터-2.1.2.2\"><span class=\"toc-item-num\">2.1.2.2&nbsp;&nbsp;</span>Estimator 파라미터</a></span></li><li><span><a href=\"#Estimated-파라미터\" data-toc-modified-id=\"Estimated-파라미터-2.1.2.3\"><span class=\"toc-item-num\">2.1.2.3&nbsp;&nbsp;</span>Estimated 파라미터</a></span></li></ul></li></ul></li><li><span><a href=\"#Supervised-Learning\" data-toc-modified-id=\"Supervised-Learning-2.2\"><span class=\"toc-item-num\">2.2&nbsp;&nbsp;</span>Supervised Learning</a></span><ul class=\"toc-item\"><li><span><a href=\"#Nearest-neighbor와-차원의-저주\" data-toc-modified-id=\"Nearest-neighbor와-차원의-저주-2.2.1\"><span class=\"toc-item-num\">2.2.1&nbsp;&nbsp;</span>Nearest neighbor와 차원의 저주</a></span><ul class=\"toc-item\"><li><span><a href=\"#k-Nearest-neigbors-classifier\" data-toc-modified-id=\"k-Nearest-neigbors-classifier-2.2.1.1\"><span class=\"toc-item-num\">2.2.1.1&nbsp;&nbsp;</span>k-Nearest neigbors classifier</a></span></li></ul></li><li><span><a href=\"#Linear-Model\" data-toc-modified-id=\"Linear-Model-2.2.2\"><span class=\"toc-item-num\">2.2.2&nbsp;&nbsp;</span>Linear Model</a></span><ul class=\"toc-item\"><li><span><a href=\"#Linear-regression\" data-toc-modified-id=\"Linear-regression-2.2.2.1\"><span class=\"toc-item-num\">2.2.2.1&nbsp;&nbsp;</span>Linear regression</a></span></li><li><span><a href=\"#Shrinkage\" data-toc-modified-id=\"Shrinkage-2.2.2.2\"><span class=\"toc-item-num\">2.2.2.2&nbsp;&nbsp;</span>Shrinkage</a></span></li><li><span><a href=\"#Sparsity\" data-toc-modified-id=\"Sparsity-2.2.2.3\"><span class=\"toc-item-num\">2.2.2.3&nbsp;&nbsp;</span>Sparsity</a></span></li><li><span><a href=\"#Classification\" data-toc-modified-id=\"Classification-2.2.2.4\"><span class=\"toc-item-num\">2.2.2.4&nbsp;&nbsp;</span>Classification</a></span></li></ul></li><li><span><a href=\"#SVM(Support-Vector-Machine)\" data-toc-modified-id=\"SVM(Support-Vector-Machine)-2.2.3\"><span class=\"toc-item-num\">2.2.3&nbsp;&nbsp;</span>SVM(Support Vector Machine)</a></span><ul class=\"toc-item\"><li><span><a href=\"#Linear-SVM\" data-toc-modified-id=\"Linear-SVM-2.2.3.1\"><span class=\"toc-item-num\">2.2.3.1&nbsp;&nbsp;</span>Linear SVM</a></span></li></ul></li></ul></li><li><span><a href=\"#Model-Selection\" data-toc-modified-id=\"Model-Selection-2.3\"><span class=\"toc-item-num\">2.3&nbsp;&nbsp;</span>Model Selection</a></span><ul class=\"toc-item\"><li><span><a href=\"#Score와-cross-validation\" data-toc-modified-id=\"Score와-cross-validation-2.3.1\"><span class=\"toc-item-num\">2.3.1&nbsp;&nbsp;</span>Score와 cross-validation</a></span></li><li><span><a href=\"#Cross-validation-generators\" data-toc-modified-id=\"Cross-validation-generators-2.3.2\"><span class=\"toc-item-num\">2.3.2&nbsp;&nbsp;</span>Cross-validation generators</a></span></li><li><span><a href=\"#Grid-search-and-cross-validated-estimators\" data-toc-modified-id=\"Grid-search-and-cross-validated-estimators-2.3.3\"><span class=\"toc-item-num\">2.3.3&nbsp;&nbsp;</span>Grid-search and cross-validated estimators</a></span></li><li><span><a href=\"#Cross-validated-estimators\" data-toc-modified-id=\"Cross-validated-estimators-2.3.4\"><span class=\"toc-item-num\">2.3.4&nbsp;&nbsp;</span>Cross-validated estimators</a></span></li></ul></li><li><span><a href=\"#Unsupervised-learning\" data-toc-modified-id=\"Unsupervised-learning-2.4\"><span class=\"toc-item-num\">2.4&nbsp;&nbsp;</span>Unsupervised learning</a></span><ul class=\"toc-item\"><li><span><a href=\"#K-means-clustering\" data-toc-modified-id=\"K-means-clustering-2.4.1\"><span class=\"toc-item-num\">2.4.1&nbsp;&nbsp;</span>K-means clustering</a></span></li><li><span><a href=\"#Hierarchial-agglomerative-clusering:-Ward\" data-toc-modified-id=\"Hierarchial-agglomerative-clusering:-Ward-2.4.2\"><span class=\"toc-item-num\">2.4.2&nbsp;&nbsp;</span>Hierarchial agglomerative clusering: Ward</a></span><ul class=\"toc-item\"><li><span><a href=\"#Connectivity-constrained-clustering\" data-toc-modified-id=\"Connectivity-constrained-clustering-2.4.2.1\"><span class=\"toc-item-num\">2.4.2.1&nbsp;&nbsp;</span>Connectivity-constrained clustering</a></span></li><li><span><a href=\"#Feature-Agglomeration\" data-toc-modified-id=\"Feature-Agglomeration-2.4.2.2\"><span class=\"toc-item-num\">2.4.2.2&nbsp;&nbsp;</span>Feature Agglomeration</a></span></li></ul></li><li><span><a href=\"#Decomposition\" data-toc-modified-id=\"Decomposition-2.4.3\"><span class=\"toc-item-num\">2.4.3&nbsp;&nbsp;</span>Decomposition</a></span></li></ul></li></ul></li></ul></div>"
   ]
  },
  {
   "cell_type": "markdown",
   "metadata": {},
   "source": [
    "***\n",
    "# scikit-learn을 이용한 머신러닝 소개\n",
    "[basic tutorial](http://scikit-learn.org/stable/tutorial/basic/tutorial.html)를 참고하였음\n",
    "## 예제 데이터셋 로드"
   ]
  },
  {
   "cell_type": "code",
   "execution_count": 2,
   "metadata": {
    "collapsed": true
   },
   "outputs": [],
   "source": [
    "from sklearn import datasets\n",
    "iris = datasets.load_iris()\n",
    "digits = datasets.load_digits()"
   ]
  },
  {
   "cell_type": "markdown",
   "metadata": {},
   "source": [
    "dataset은 딕셔너리 타입과 비슷한 형태의 객체로 데이터와 각종 메타데이터를 포함하고 있다.\n",
    "* <code class=\"keras\">.data</code>: 데이터\n",
    "* <code class=\"keras\">.n_samples</code>: 데이터의 수\n",
    "* <code class=\"keras\">.n_features</code>: feature의 수\n",
    "* <code class=\"keras\">.target</code>: Supervised Learnig일 때 target"
   ]
  },
  {
   "cell_type": "markdown",
   "metadata": {},
   "source": [
    "### Data array의 형태\n",
    "데이터는 원래 데이터의 형태와 상관 없이 항상 2D 형태이다. (n_samples X n_features)"
   ]
  },
  {
   "cell_type": "markdown",
   "metadata": {},
   "source": [
    "### 외부에서 데이터셋 부르기\n",
    "* pandas.io: 일반적인 포맷의 데이터(csv, excel, json, sql ...)\n",
    "* sciply.io: scientific computing에서 쓰이는 .mat/ .arff 등의 바이너리 파일\n",
    "* numply/routine.io\n",
    "* scikit-learn의 **dataset.load_svmlight_file**: svmlight or libSVM 포맷\n",
    "* scikit-learn의 **dataset.load_files**: 텍스트파일이 들어있는 디렉토리들을 로드할 때 용이하다. 디렉토리의 이름이 카테고리가 되며 디렉토리 내부의 텍스트파일이 하나의 샘플이 된다.\n"
   ]
  },
  {
   "cell_type": "markdown",
   "metadata": {},
   "source": [
    "## Learning과 Predicting\n",
    "분류 모델의 파라미터(Estimator)는 파이썬 객체이며 <code class=\"keras\">fit(X,y)</code>와 <code class=\"keras\">preditc(T)</code> 메소드를 가지고 있다."
   ]
  },
  {
   "cell_type": "code",
   "execution_count": 6,
   "metadata": {
    "collapsed": true
   },
   "outputs": [],
   "source": [
    "from sklearn import svm\n",
    "clf = svm.SVC(gamma=0.001, C=100.) # Constructor of estimator\n",
    "# gamma값은 grid search나 cross-validation을 통해 찾을 수 있음"
   ]
  },
  {
   "cell_type": "code",
   "execution_count": 8,
   "metadata": {},
   "outputs": [
    {
     "data": {
      "text/plain": [
       "SVC(C=100.0, cache_size=200, class_weight=None, coef0=0.0,\n",
       "  decision_function_shape='ovr', degree=3, gamma=0.001, kernel='rbf',\n",
       "  max_iter=-1, probability=False, random_state=None, shrinking=True,\n",
       "  tol=0.001, verbose=False)"
      ]
     },
     "execution_count": 8,
     "metadata": {},
     "output_type": "execute_result"
    }
   ],
   "source": [
    "# Fitting\n",
    "clf.fit(digits.data[:-1], digits.target[:-1])"
   ]
  },
  {
   "cell_type": "code",
   "execution_count": 9,
   "metadata": {},
   "outputs": [
    {
     "data": {
      "text/plain": [
       "array([8])"
      ]
     },
     "execution_count": 9,
     "metadata": {},
     "output_type": "execute_result"
    }
   ],
   "source": [
    "# Predicting\n",
    "clf.predict(digits.data[-1:])"
   ]
  },
  {
   "cell_type": "markdown",
   "metadata": {},
   "source": [
    "## Model persistence\n",
    "파이썬 내장함수인 <code class=\"keras\">pickle</code>을 통해 모델을 저장할 수 있다. 이 방법은 보안상의 문제와 유지보수의 어려움이 있는 것으로 알려져 있다. [Model Persistence](http://scikit-learn.org/stable/modules/model_persistence.html#model-persistence)를 참고"
   ]
  },
  {
   "cell_type": "code",
   "execution_count": 11,
   "metadata": {},
   "outputs": [
    {
     "name": "stdout",
     "output_type": "stream",
     "text": [
      "[0]\n",
      "0\n"
     ]
    }
   ],
   "source": [
    "from sklearn import svm\n",
    "from sklearn import datasets\n",
    "clf = svm.SVC()\n",
    "iris = datasets.load_iris()\n",
    "X, y = iris.data, iris.target\n",
    "clf.fit(X, y)\n",
    "import pickle\n",
    "s = pickle.dumps(clf)\n",
    "clf2 = pickle.loads(s)\n",
    "print(clf2.predict(X[0:1]))\n",
    "print(y[0])"
   ]
  },
  {
   "cell_type": "markdown",
   "metadata": {},
   "source": [
    "많은 데이터에 대해서는 <code class=\"keras\">joblib.dump</code>와 <code class=\"keras\">joblib.load</code>를 사용하는 것이 더 효율적일 수 있다. 단, 이 방법은 string 형태로 dump할 수 없고 파일로만 가능하다."
   ]
  },
  {
   "cell_type": "code",
   "execution_count": 13,
   "metadata": {
    "collapsed": true
   },
   "outputs": [],
   "source": [
    "import os.path\n",
    "if os.path.exists(\"./joblib_pickle.pk1\"):\n",
    "    os.system('rm joblib_pickle.pk1')\n",
    "from sklearn.externals import joblib\n",
    "joblib.dump(clf, 'joblib_pickle.pk1')\n",
    "clf = joblib.load('joblib_pickle.pk1')"
   ]
  },
  {
   "cell_type": "markdown",
   "metadata": {},
   "source": [
    "## 컨벤션\n",
    "### 타입 캐스팅\n",
    "명시되지 않은 입력은 <code class=\"keras\">float64</code> 타입이다."
   ]
  },
  {
   "cell_type": "code",
   "execution_count": 20,
   "metadata": {},
   "outputs": [
    {
     "name": "stdout",
     "output_type": "stream",
     "text": [
      "float32\n",
      "float64\n"
     ]
    }
   ],
   "source": [
    "import numpy as np\n",
    "from sklearn import random_projection\n",
    "\n",
    "rng = np.random.RandomState(0)\n",
    "X = rng.rand(10, 2000)\n",
    "X = np.array(X, dtype='float32')\n",
    "print(X.dtype)\n",
    "\n",
    "transformer = random_projection.GaussianRandomProjection()\n",
    "X_new = transformer.fit_transform(X)\n",
    "print(X_new.dtype)"
   ]
  },
  {
   "cell_type": "markdown",
   "metadata": {},
   "source": [
    "회귀 모델의 타깃은 <code class=\"keras\">float64</code>로 캐스팅되며, 분류 모델의 타깃은 입력받은 타깃의 타입을 그대로 유지한다."
   ]
  },
  {
   "cell_type": "code",
   "execution_count": 21,
   "metadata": {},
   "outputs": [
    {
     "data": {
      "text/plain": [
       "[0, 0, 0]"
      ]
     },
     "execution_count": 21,
     "metadata": {},
     "output_type": "execute_result"
    }
   ],
   "source": [
    "from sklearn import datasets\n",
    "from sklearn.svm import SVC\n",
    "iris = datasets.load_iris()\n",
    "clf = SVC()\n",
    "clf.fit(iris.data, iris.target)  \n",
    "\n",
    "list(clf.predict(iris.data[:3])) # 정수타입 유지"
   ]
  },
  {
   "cell_type": "code",
   "execution_count": 22,
   "metadata": {},
   "outputs": [
    {
     "data": {
      "text/plain": [
       "['setosa', 'setosa', 'setosa']"
      ]
     },
     "execution_count": 22,
     "metadata": {},
     "output_type": "execute_result"
    }
   ],
   "source": [
    "clf.fit(iris.data, iris.target_names[iris.target])  \n",
    "list(clf.predict(iris.data[:3])) #문자열 타입 유지 "
   ]
  },
  {
   "cell_type": "markdown",
   "metadata": {},
   "source": [
    "### Fitting 다시하기와 파라미터 업데이트\n",
    "Estimator의 Hyper-parameter는 <code class=\"keras\">sklearn.pipeline.Pipeline.set_params</code>메소드를 통해 바꿀 수 있다. <code class=\"keras\">fit()</code>을 여러 차례 호출하면 이전에 <code class=\"keras\">fit()</code> 호출을 통해 학습한 결과를 덮어 쓴다."
   ]
  },
  {
   "cell_type": "code",
   "execution_count": 24,
   "metadata": {},
   "outputs": [
    {
     "name": "stdout",
     "output_type": "stream",
     "text": [
      "[1 0 1 1 0]\n",
      "[0 0 0 1 0]\n"
     ]
    }
   ],
   "source": [
    "import numpy as np\n",
    "from sklearn.svm import SVC\n",
    "\n",
    "rng = np.random.RandomState(0)\n",
    "X = rng.rand(100, 10)\n",
    "y = rng.binomial(1, 0.5, 100)\n",
    "X_test = rng.rand(5, 10)\n",
    "\n",
    "clf = SVC()\n",
    "clf.set_params(kernel='linear').fit(X, y)  \n",
    "print(clf.predict(X_test))\n",
    "\n",
    "clf.set_params(kernel='rbf').fit(X, y)  \n",
    "print(clf.predict(X_test))"
   ]
  },
  {
   "cell_type": "markdown",
   "metadata": {},
   "source": [
    "## Multiclass vs Multilabel fitting\n",
    "Multi-class classifier를 이용하면 learning과 predicting이 타겟 데이터의 포맷에 의존하게 된다."
   ]
  },
  {
   "cell_type": "code",
   "execution_count": 19,
   "metadata": {},
   "outputs": [
    {
     "data": {
      "text/plain": [
       "array([0, 0, 1, 1, 2])"
      ]
     },
     "execution_count": 19,
     "metadata": {},
     "output_type": "execute_result"
    }
   ],
   "source": [
    "from sklearn.svm import SVC\n",
    "from sklearn.multiclass import OneVsRestClassifier\n",
    "from sklearn.preprocessing import LabelBinarizer\n",
    "\n",
    "X = [[1, 2], [2, 4], [4, 5], [3, 2], [3, 1]]\n",
    "y = [0, 0, 1, 1, 2]\n",
    "\n",
    "classif = OneVsRestClassifier(estimator=SVC(random_state=0))\n",
    "classif.fit(X, y).predict(X)"
   ]
  },
  {
   "cell_type": "markdown",
   "metadata": {},
   "source": [
    "위 예시에서 classifier가 1D multiclass label에 fitting되며 <code class=\"keras\">predict()</code> 메소드는 그에 해당하는 multiclass의 예측값을 제공한다.\n",
    "\n",
    "2D 바이너리 레이블(e.g. 1 -> [1, 0, 0], 2-> [0, 1 ,0])로 fitting하는 것도 가능하다."
   ]
  },
  {
   "cell_type": "code",
   "execution_count": 22,
   "metadata": {},
   "outputs": [
    {
     "data": {
      "text/plain": [
       "array([[1, 0, 0],\n",
       "       [1, 0, 0],\n",
       "       [0, 1, 0],\n",
       "       [0, 0, 0],\n",
       "       [0, 0, 0]])"
      ]
     },
     "execution_count": 22,
     "metadata": {},
     "output_type": "execute_result"
    }
   ],
   "source": [
    "y = LabelBinarizer().fit_transform(y)\n",
    "classif.fit(X, y).predict(X)"
   ]
  },
  {
   "cell_type": "markdown",
   "metadata": {},
   "source": [
    "4번째와 5번째 예측값은 [0, 0, 0]으로 어떤 label에도 속하지 않음을 나타낸다.\n",
    "\n",
    "<code class=\"keras\">MultiLabelBinarizer()</code>를 이용하면 여러 개의 레이블을 할당하는 것도 가능하다."
   ]
  },
  {
   "cell_type": "code",
   "execution_count": 30,
   "metadata": {},
   "outputs": [
    {
     "data": {
      "text/plain": [
       "array([[1, 1, 0, 0, 0],\n",
       "       [1, 0, 1, 0, 0],\n",
       "       [0, 1, 0, 1, 0],\n",
       "       [1, 0, 1, 0, 0],\n",
       "       [1, 0, 1, 0, 0]])"
      ]
     },
     "execution_count": 30,
     "metadata": {},
     "output_type": "execute_result"
    }
   ],
   "source": [
    "from sklearn.preprocessing import MultiLabelBinarizer\n",
    "y = [[0, 1], [0, 2], [1, 3], [0, 2, 3], [2, 4]]\n",
    "y = MultiLabelBinarizer().fit_transform(y)\n",
    "classif.fit(X, y).predict(X)"
   ]
  },
  {
   "cell_type": "markdown",
   "metadata": {},
   "source": [
    "***\n",
    "# Tutorial on statistical-learning for scientific data processing\n",
    "[statistical inference](http://scikit-learn.org/stable/tutorial/statistical_inference/index.html)를 참고하였음\n",
    "## Statistical Learning: 세팅과 Estimator 객체\n",
    "### 데이터셋"
   ]
  },
  {
   "cell_type": "code",
   "execution_count": 31,
   "metadata": {},
   "outputs": [
    {
     "data": {
      "text/plain": [
       "(150, 4)"
      ]
     },
     "execution_count": 31,
     "metadata": {},
     "output_type": "execute_result"
    }
   ],
   "source": [
    "# 입력 데이터 dimension 확인\n",
    "from sklearn import datasets\n",
    "iris = datasets.load_iris()\n",
    "data = iris.data\n",
    "data.shape"
   ]
  },
  {
   "cell_type": "code",
   "execution_count": 37,
   "metadata": {},
   "outputs": [
    {
     "name": "stdout",
     "output_type": "stream",
     "text": [
      "(1797, 8, 8)\n",
      "(1797, 64)\n"
     ]
    },
    {
     "data": {
      "image/png": "[encoded data removed]",
      "text/plain": [
       "<matplotlib.figure.Figure at 0x7f85f4db5048>"
      ]
     },
     "metadata": {},
     "output_type": "display_data"
    }
   ],
   "source": [
    "# 입력 데이터 shape 확인\n",
    "digits = datasets.load_digits()\n",
    "print(digits.images.shape)\n",
    "\n",
    "# 이미지로 확인하기\n",
    "import matplotlib.pyplot as plt \n",
    "plt.imshow(digits.images[-1], cmap=plt.cm.gray_r)\n",
    "\n",
    "# 입력 데이터 reshaping\n",
    "data = digits.images.reshape((digits.images.shape[0], -1))\n",
    "print(data.shape) # (8,8) --> (64,1)로 reshape"
   ]
  },
  {
   "cell_type": "markdown",
   "metadata": {},
   "source": [
    "### Estimator objects\n",
    "#### Fitting Data\n",
    "scikit-learn의 주요 API는 Estimator의 API다. Estimator는 데이터를 통해 학습하는 모든 객체를 말한다.\n",
    "* classification\n",
    "* regression\n",
    "* clustering\n",
    "* transformer: raw data에서 유용한 feature를 추출하는 모델\n",
    "\n",
    "모든 Estimator 객체는 2D 배열의 데이터셋을 받아 학습하는 <code class=\"keras\">fit</code> 메소드를 제공한다.\n",
    "\n",
    "``` python\n",
    "estimator.fit(data)\n",
    "```\n",
    "\n",
    "#### Estimator 파라미터\n",
    "모든 Estimator의 파라미터는 인스턴스화될 때 또는 속성을 변경할 때 설정할 수 있다.\n",
    "```python\n",
    "estimator = Estimator(param1=1, param2=2) # 인스턴스화\n",
    "estimator.param1 # 속성 변경\n",
    "```\n",
    "\n",
    "#### Estimated 파라미터\n",
    "모든 estimated된 파라미터는 언더스코어로 끝나는 이름을 가지고 있다.\n",
    "```python\n",
    "estimator = Estimator(param1=1, param2=2) \n",
    "estimator.fit(data)\n",
    "estimator.param1_ # 파라미터 마지막에 언더스코어\n",
    "```"
   ]
  },
  {
   "cell_type": "markdown",
   "metadata": {},
   "source": [
    "## Supervised Learning\n",
    "classification과 regression이 있다.\n",
    "### Nearest neighbor와 차원의 저주"
   ]
  },
  {
   "cell_type": "code",
   "execution_count": 4,
   "metadata": {},
   "outputs": [
    {
     "data": {
      "text/plain": [
       "array([0, 1, 2])"
      ]
     },
     "execution_count": 4,
     "metadata": {},
     "output_type": "execute_result"
    }
   ],
   "source": [
    "# petal, sepal length, sepal width --> predict a type of irises\n",
    "import numpy as np\n",
    "from sklearn import datasets\n",
    "iris = datasets.load_iris()\n",
    "iris_X = iris.data\n",
    "iris_y = iris.target\n",
    "np.unique(iris_y)"
   ]
  },
  {
   "cell_type": "markdown",
   "metadata": {},
   "source": [
    "#### k-Nearest neigbors classifier\n",
    "가장 쉬운 방법"
   ]
  },
  {
   "cell_type": "code",
   "execution_count": 5,
   "metadata": {},
   "outputs": [
    {
     "name": "stdout",
     "output_type": "stream",
     "text": [
      "[1 2 1 0 0 0 2 1 2 0]\n",
      "[1 1 1 0 0 0 2 1 2 0]\n"
     ]
    }
   ],
   "source": [
    "# Split iris data in train and test data\n",
    "# A random permutation, to split the data randomly\n",
    "np.random.seed(0)\n",
    "indices = np.random.permutation(len(iris_X))\n",
    "iris_X_train = iris_X[indices[:-10]]\n",
    "iris_y_train = iris_y[indices[:-10]]\n",
    "iris_X_test  = iris_X[indices[-10:]]\n",
    "iris_y_test  = iris_y[indices[-10:]]\n",
    "\n",
    "# Create and fit a nearest-neighbor classifier\n",
    "from sklearn.neighbors import KNeighborsClassifier\n",
    "knn = KNeighborsClassifier()\n",
    "knn.fit(iris_X_train, iris_y_train) \n",
    "\n",
    "print(knn.predict(iris_X_test))\n",
    "print(iris_y_test)"
   ]
  },
  {
   "cell_type": "markdown",
   "metadata": {},
   "source": [
    "차원의 저주(The curse of dimensionality):\n",
    "kNN 방법은 feature의 수가 많아질 수록 계산량이 급격하게 증가한다."
   ]
  },
  {
   "cell_type": "markdown",
   "metadata": {},
   "source": [
    "### Linear Model\n",
    "#### Linear regression"
   ]
  },
  {
   "cell_type": "code",
   "execution_count": 7,
   "metadata": {},
   "outputs": [
    {
     "name": "stdout",
     "output_type": "stream",
     "text": [
      "[ 3.03499549e-01 -2.37639315e+02  5.10530605e+02  3.27736980e+02\n",
      " -8.14131709e+02  4.92814588e+02  1.02848452e+02  1.84606489e+02\n",
      "  7.43519617e+02  7.60951722e+01]\n",
      "2004.5676026898211\n",
      "0.5850753022690574\n"
     ]
    }
   ],
   "source": [
    "# dataset loading\n",
    "diabetes = datasets.load_diabetes()\n",
    "diabetes_X_train = diabetes.data[:-20]\n",
    "diabetes_X_test  = diabetes.data[-20:]\n",
    "diabetes_y_train = diabetes.target[:-20]\n",
    "diabetes_y_test  = diabetes.target[-20:]\n",
    "\n",
    "from sklearn import linear_model\n",
    "regr = linear_model.LinearRegression()\n",
    "regr.fit(diabetes_X_train, diabetes_y_train)\n",
    "print(regr.coef_)\n",
    "\n",
    "# The mean square error\n",
    "print(np.mean((regr.predict(diabetes_X_test)-diabetes_y_test)**2))\n",
    "\n",
    "# Explained variance score: 1 is perfect prediction\n",
    "# and 0 means that there is no linear relationship\n",
    "# between X and y.\n",
    "print(regr.score(diabetes_X_test, diabetes_y_test)) "
   ]
  },
  {
   "cell_type": "markdown",
   "metadata": {},
   "source": [
    "#### Shrinkage\n",
    "차원의 수의 비해 데이터의 수가 적은 경우 노이즈가 높은 variance를 발생시킨다."
   ]
  },
  {
   "cell_type": "code",
   "execution_count": 12,
   "metadata": {},
   "outputs": [
    {
     "data": {
      "image/png": "[encoded data removed]",
      "text/plain": [
       "<matplotlib.figure.Figure at 0x7f81f99004a8>"
      ]
     },
     "metadata": {},
     "output_type": "display_data"
    }
   ],
   "source": [
    "X = np.c_[ .5, 1].T\n",
    "y = [.5, 1]\n",
    "test = np.c_[ 0, 2].T\n",
    "regr = linear_model.LinearRegression()\n",
    "\n",
    "import matplotlib.pyplot as plt \n",
    "plt.figure() \n",
    "\n",
    "np.random.seed(0)\n",
    "for _ in range(6): \n",
    "    this_X = .1*np.random.normal(size=(2, 1)) + X\n",
    "    regr.fit(this_X, y)\n",
    "    plt.plot(test, regr.predict(test)) \n",
    "    plt.scatter(this_X, y, s=3)  "
   ]
  },
  {
   "cell_type": "markdown",
   "metadata": {},
   "source": [
    "이에 대한 해결 방법은 회귀계수(regression coefficient)를 0으로 _shrink_하는 것이다. 이를 **Ridge** regression이라고 한다."
   ]
  },
  {
   "cell_type": "code",
   "execution_count": 14,
   "metadata": {},
   "outputs": [
    {
     "data": {
      "image/png": "[encoded data removed]",
      "text/plain": [
       "<matplotlib.figure.Figure at 0x7f82004a8780>"
      ]
     },
     "metadata": {},
     "output_type": "display_data"
    }
   ],
   "source": [
    "regr = linear_model.Ridge(alpha=.1)\n",
    "\n",
    "plt.figure() \n",
    "\n",
    "np.random.seed(0)\n",
    "for _ in range(6): \n",
    "   this_X = .1*np.random.normal(size=(2, 1)) + X\n",
    "   regr.fit(this_X, y)\n",
    "   plt.plot(test, regr.predict(test)) \n",
    "   plt.scatter(this_X, y, s=3) "
   ]
  },
  {
   "cell_type": "markdown",
   "metadata": {},
   "source": [
    "<code class=\"keras\">alpha</code>가 커질 수록 bias는 높아지고 variance는 낮아진다.\n",
    "\n",
    "Left out error를 최소화 하는 <code class=\"keras\">alpha</code>를 파라미터로 선택할 수 있다."
   ]
  },
  {
   "cell_type": "code",
   "execution_count": 17,
   "metadata": {},
   "outputs": [
    {
     "name": "stdout",
     "output_type": "stream",
     "text": [
      "[0.5851110683883531, 0.5852073015444677, 0.5854677540698492, 0.5855512036503916, 0.5830717085554161, 0.570589994372801]\n"
     ]
    }
   ],
   "source": [
    "alphas = np.logspace(-4, -1, 6)\n",
    "from __future__ import print_function\n",
    "print([regr.set_params(alpha=alpha\n",
    "            ).fit(diabetes_X_train, diabetes_y_train,\n",
    "            ).score(diabetes_X_test, diabetes_y_test) for alpha in alphas]) "
   ]
  },
  {
   "cell_type": "markdown",
   "metadata": {},
   "source": [
    "#### Sparsity\n",
    "<img src=\"sparsity_1.png\" caption=\"sparsity_1\" width=\"300\" height=\"300\">\n",
    "<img src=\"sparsity_2.png\" caption=\"sparsity_2\" width=\"300\" height=\"300\">\n",
    "<img src=\"sparsity_3.png\" caption=\"sparsity_3\" width=\"300\" height=\"300\">\n",
    "Feature 2은 모델과 강한 상관관계를 가지고 있음에도 feature 1에 비해 y에 대한 정보가 적다.\n",
    "\n",
    "차원의 저주를 피하기 위하고 중요한 feature를 선택하기 위해서는 증요하지 않은 feature에 대응하는 coefficient의 값을 줄이거나 0으로 만들면 된다. Ridge regression은 0에 가까운 값으로 줄일 것이다.\n",
    "\n",
    "또 다른 방법은 _Lasso_를 이용하는 **sparse method**를 사용하는 것이다. 이 방법은 중요하지 않은 feature의 coefficient를 0으로 만든다. "
   ]
  },
  {
   "cell_type": "code",
   "execution_count": 25,
   "metadata": {},
   "outputs": [
    {
     "name": "stdout",
     "output_type": "stream",
     "text": [
      "[   0.         -212.43764548  517.19478111  313.77959962 -160.8303982\n",
      "   -0.         -187.19554705   69.38229038  508.66011217   71.84239008]\n"
     ]
    }
   ],
   "source": [
    "regr = linear_model.Lasso()\n",
    "scores = [regr.set_params(alpha=alpha\n",
    "            ).fit(diabetes_X_train, diabetes_y_train\n",
    "            ).score(diabetes_X_test, diabetes_y_test)\n",
    "       for alpha in alphas]\n",
    "best_alpha = alphas[scores.index(max(scores))]\n",
    "regr.alpha = best_alpha\n",
    "regr.fit(diabetes_X_train, diabetes_y_train)\n",
    "\n",
    "print(regr.coef_)"
   ]
  },
  {
   "cell_type": "markdown",
   "metadata": {},
   "source": [
    "#### Classification"
   ]
  },
  {
   "cell_type": "code",
   "execution_count": 28,
   "metadata": {},
   "outputs": [
    {
     "data": {
      "image/png": "[encoded data removed]",
      "text/plain": [
       "<matplotlib.figure.Figure at 0x7f81f99112e8>"
      ]
     },
     "metadata": {},
     "output_type": "display_data"
    }
   ],
   "source": [
    "import numpy as np\n",
    "import matplotlib.pyplot as plt\n",
    "from sklearn import linear_model, datasets\n",
    "\n",
    "# import some data to play with\n",
    "iris = datasets.load_iris()\n",
    "X = iris.data[:, :2]  # we only take the first two features.\n",
    "Y = iris.target\n",
    "\n",
    "h = .02  # step size in the mesh\n",
    "\n",
    "logreg = linear_model.LogisticRegression(C=1e5)\n",
    "\n",
    "# we create an instance of Neighbours Classifier and fit the data.\n",
    "logreg.fit(X, Y)\n",
    "\n",
    "# Plot the decision boundary. For that, we will assign a color to each\n",
    "# point in the mesh [x_min, x_max]x[y_min, y_max].\n",
    "x_min, x_max = X[:, 0].min() - .5, X[:, 0].max() + .5\n",
    "y_min, y_max = X[:, 1].min() - .5, X[:, 1].max() + .5\n",
    "xx, yy = np.meshgrid(np.arange(x_min, x_max, h), np.arange(y_min, y_max, h))\n",
    "Z = logreg.predict(np.c_[xx.ravel(), yy.ravel()])\n",
    "\n",
    "# Put the result into a color plot\n",
    "Z = Z.reshape(xx.shape)\n",
    "plt.figure(1, figsize=(4, 3))\n",
    "plt.pcolormesh(xx, yy, Z, cmap=plt.cm.Paired)\n",
    "\n",
    "# Plot also the training points\n",
    "plt.scatter(X[:, 0], X[:, 1], c=Y, edgecolors='k', cmap=plt.cm.Paired)\n",
    "plt.xlabel('Sepal length')\n",
    "plt.ylabel('Sepal width')\n",
    "\n",
    "plt.xlim(xx.min(), xx.max())\n",
    "plt.ylim(yy.min(), yy.max())\n",
    "plt.xticks(())\n",
    "plt.yticks(())\n",
    "\n",
    "plt.show()"
   ]
  },
  {
   "cell_type": "markdown",
   "metadata": {},
   "source": [
    "* Multiclass Classification: one vs all classifier를 fitting하고 voting 휴리스틱을 이용한다.\n",
    "* 로지스틱 회귀에서의 shrinkage과 sparsity: <code class=\"keras\">c</code> 파라미터는 <code class=\"keras\">LogisticRegression</code>의 정규화 정도를 정한다. <code class=\"keras\">c</code> 파라미터가 커질 수록 정규화가 적게 된다. <code class=\"keras\">penalty=\"l2\"</code> 옵션은 Shrinkage를 <code class=\"keras\">penalty=\"l1\"</code>은 Sparsity를 제공한다."
   ]
  },
  {
   "cell_type": "markdown",
   "metadata": {},
   "source": [
    "### SVM(Support Vector Machine)\n",
    "#### Linear SVM\n",
    "<code class=\"keras\">C</code> 파라미터는 정규화 정도를 설정한다. <code class=\"keras\">C</code>가 작으면 정규화 정도가 커지고 크면 정규화 정도가 작아진다."
   ]
  },
  {
   "cell_type": "code",
   "execution_count": 2,
   "metadata": {},
   "outputs": [
    {
     "ename": "NameError",
     "evalue": "name 'iris_X_train' is not defined",
     "output_type": "error",
     "traceback": [
      "\u001b[0;31m---------------------------------------------------------------------------\u001b[0m",
      "\u001b[0;31mNameError\u001b[0m                                 Traceback (most recent call last)",
      "\u001b[0;32m<ipython-input-2-bd8e86fb3101>\u001b[0m in \u001b[0;36m<module>\u001b[0;34m()\u001b[0m\n\u001b[1;32m      3\u001b[0m \u001b[0;31m# svc = svm.SVC(kernel='poly',degree=3) # polynomilal kernel\u001b[0m\u001b[0;34m\u001b[0m\u001b[0;34m\u001b[0m\u001b[0m\n\u001b[1;32m      4\u001b[0m \u001b[0;31m# svc = svm.SVC(kernel='rbf') # polynomilal kernel\u001b[0m\u001b[0;34m\u001b[0m\u001b[0;34m\u001b[0m\u001b[0m\n\u001b[0;32m----> 5\u001b[0;31m \u001b[0msvc\u001b[0m\u001b[0;34m.\u001b[0m\u001b[0mfit\u001b[0m\u001b[0;34m(\u001b[0m\u001b[0miris_X_train\u001b[0m\u001b[0;34m,\u001b[0m \u001b[0miris_y_train\u001b[0m\u001b[0;34m)\u001b[0m\u001b[0;34m\u001b[0m\u001b[0m\n\u001b[0m",
      "\u001b[0;31mNameError\u001b[0m: name 'iris_X_train' is not defined"
     ]
    }
   ],
   "source": [
    "from sklearn import svm\n",
    "svc = svm.SVC(kernel='linear')\n",
    "# svc = svm.SVC(kernel='poly',degree=3) # polynomilal kernel\n",
    "# svc = svm.SVC(kernel='rbf') # polynomilal kernel\n",
    "svc.fit(iris_X_train, iris_y_train)  "
   ]
  },
  {
   "cell_type": "markdown",
   "metadata": {},
   "source": [
    "## Model Selection\n",
    "### Score와 cross-validation"
   ]
  },
  {
   "cell_type": "code",
   "execution_count": 4,
   "metadata": {},
   "outputs": [
    {
     "data": {
      "text/plain": [
       "0.98"
      ]
     },
     "execution_count": 4,
     "metadata": {},
     "output_type": "execute_result"
    }
   ],
   "source": [
    "from sklearn import datasets, svm\n",
    "digits = datasets.load_digits()\n",
    "X_digits = digits.data\n",
    "y_digits = digits.target\n",
    "svc = svm.SVC(C=1, kernel='linear')\n",
    "svc.fit(X_digits[:-100], y_digits[:-100]).score(X_digits[-100:], y_digits[-100:])\n",
    "# Bigger -> Better"
   ]
  },
  {
   "cell_type": "code",
   "execution_count": 10,
   "metadata": {},
   "outputs": [
    {
     "name": "stdout",
     "output_type": "stream",
     "text": [
      "[0.9348914858096828, 0.9565943238731218, 0.9398998330550918]\n"
     ]
    }
   ],
   "source": [
    "import numpy as np\n",
    "X_folds = np.array_split(X_digits, 3)\n",
    "y_folds = np.array_split(y_digits, 3)\n",
    "scores = list()\n",
    "for k in range(3):\n",
    "    # We use 'list' to copy, in order to 'pop' later on\n",
    "    X_train = list(X_folds)\n",
    "    X_test  = X_train.pop(k)\n",
    "    X_train = np.concatenate(X_train)\n",
    "    y_train = list(y_folds)\n",
    "    y_test  = y_train.pop(k)\n",
    "    y_train = np.concatenate(y_train)\n",
    "    scores.append(svc.fit(X_train, y_train).score(X_test, y_test))\n",
    "print(scores)"
   ]
  },
  {
   "cell_type": "markdown",
   "metadata": {},
   "source": [
    "### Cross-validation generators\n",
    "<code class=\"keras\">split</code> : train set과 test set을 만들 때 유용"
   ]
  },
  {
   "cell_type": "code",
   "execution_count": 11,
   "metadata": {},
   "outputs": [
    {
     "name": "stdout",
     "output_type": "stream",
     "text": [
      "Train: [2 3 4 5] | test: [0 1]\n",
      "Train: [0 1 4 5] | test: [2 3]\n",
      "Train: [0 1 2 3] | test: [4 5]\n"
     ]
    }
   ],
   "source": [
    "# train set / test set\n",
    "from sklearn.model_selection import KFold, cross_val_score\n",
    "X = [\"a\", \"a\", \"b\", \"c\", \"c\", \"c\"]\n",
    "k_fold = KFold(n_splits=3)\n",
    "for train_indices, test_indices in k_fold.split(X):\n",
    "     print('Train: %s | test: %s' % (train_indices, test_indices))"
   ]
  },
  {
   "cell_type": "code",
   "execution_count": 15,
   "metadata": {},
   "outputs": [
    {
     "data": {
      "text/plain": [
       "[0.9348914858096828, 0.9565943238731218, 0.9398998330550918]"
      ]
     },
     "execution_count": 15,
     "metadata": {},
     "output_type": "execute_result"
    }
   ],
   "source": [
    "# Cross-Validation\n",
    "[svc.fit(X_digits[train], y_digits[train]).score(X_digits[test], y_digits[test])\n",
    "         for train, test in k_fold.split(X_digits)]"
   ]
  },
  {
   "cell_type": "code",
   "execution_count": 16,
   "metadata": {},
   "outputs": [
    {
     "data": {
      "text/plain": [
       "array([0.93489149, 0.95659432, 0.93989983])"
      ]
     },
     "execution_count": 16,
     "metadata": {},
     "output_type": "execute_result"
    }
   ],
   "source": [
    "# cross_val_score라는 메소드로 직접 구하는 것도 가능하다.\n",
    "cross_val_score(svc, X_digits, y_digits, cv=k_fold, n_jobs=-1)"
   ]
  },
  {
   "cell_type": "markdown",
   "metadata": {},
   "source": [
    "모든 estimator는 <code class=\"keras\">score</code> 메소드를 통해 score를 구할 수 있다. n_jobs 옵션은 사용할 cpu의 수를 결정하며 -1은 모든 cpu를 사용하는 것을 의미한다."
   ]
  },
  {
   "cell_type": "markdown",
   "metadata": {},
   "source": [
    "Cross-validation genetrators\n",
    "\n",
    "| Method | Description | \n",
    "|:------|:---------|\n",
    "|KFold (n_splits, shuffle, random_state) | Splits it into K folds, trains on K-1 and then tests on the left-out.|\n",
    "|StratifiedKFold (n_splits, shuffle, random_state) | Same as K-Fold but preserves the class distribution within each fold.|\n",
    "|GroupKFold (n_splits) | Ensures that the same group is not in both testing and training sets.|\n",
    "|ShuffleSplit (n_splits, test_size, train_size, random_state) | Generates train/test indices based on random permutation.|\n",
    "|StratifiedShuffleSplit | Same as shuffle split but preserves the class distribution within each iteration.|\n",
    "|GroupShuffleSplit | Ensures that the same group is not in both testing and training sets.|\n",
    "|LeaveOneGroupOut ()|Takes a group array to group observations.|\n",
    "|LeavePGroupsOut (n_groups)|Leave P groups out.|\n",
    "|LeaveOneOut ()|Leave one observation out.|\n",
    "|LeavePOut (p)|Leave P observations out.|\n",
    "|PredefinedSplit|Generates train/test indices based on predefined splits.|"
   ]
  },
  {
   "cell_type": "markdown",
   "metadata": {},
   "source": [
    "### Grid-search and cross-validated estimators"
   ]
  },
  {
   "cell_type": "code",
   "execution_count": 18,
   "metadata": {},
   "outputs": [
    {
     "data": {
      "text/plain": [
       "0.9435382685069009"
      ]
     },
     "execution_count": 18,
     "metadata": {},
     "output_type": "execute_result"
    }
   ],
   "source": [
    "from sklearn.model_selection import GridSearchCV, cross_val_score\n",
    "Cs = np.logspace(-6, -1, 10)\n",
    "clf = GridSearchCV(estimator=svc, param_grid=dict(C=Cs),\n",
    "                   n_jobs=-1)\n",
    "clf.fit(X_digits[:1000], y_digits[:1000])        \n",
    "\n",
    "clf.best_score_                                  \n",
    "\n",
    "clf.best_estimator_.C                            \n",
    "\n",
    "\n",
    "# Prediction performance on test set is not as good as on train set\n",
    "clf.score(X_digits[1000:], y_digits[1000:])      "
   ]
  },
  {
   "cell_type": "markdown",
   "metadata": {},
   "source": [
    "디볼트로 <code class=\"keras\">GridSearchCV</code>는 3-fold cross-validation을 이용한다."
   ]
  },
  {
   "cell_type": "markdown",
   "metadata": {},
   "source": [
    "### Cross-validated estimators\n",
    "자동적으로 좋은 파라미터를 설정해주기 위해 제공되는 API다. 이런 API들은 estimator의 이름에 CV가 붙는다. 예를 들어 Lasso의 cross-validation 메소드는 LassoCV다."
   ]
  },
  {
   "cell_type": "code",
   "execution_count": 4,
   "metadata": {},
   "outputs": [
    {
     "data": {
      "text/plain": [
       "0.012291895087486173"
      ]
     },
     "execution_count": 4,
     "metadata": {},
     "output_type": "execute_result"
    }
   ],
   "source": [
    "from sklearn import linear_model, datasets\n",
    "lasso = linear_model.LassoCV()\n",
    "diabetes = datasets.load_diabetes()\n",
    "X_diabetes = diabetes.data\n",
    "y_diabetes = diabetes.target\n",
    "lasso.fit(X_diabetes, y_diabetes)\n",
    "\n",
    "# The estimator chose automatically its lambda:\n",
    "lasso.alpha_ "
   ]
  },
  {
   "cell_type": "markdown",
   "metadata": {},
   "source": [
    "## Unsupervised learning\n",
    "### K-means clustering"
   ]
  },
  {
   "cell_type": "code",
   "execution_count": 6,
   "metadata": {},
   "outputs": [
    {
     "name": "stdout",
     "output_type": "stream",
     "text": [
      "[1 1 1 1 1 0 0 0 0 0 2 2 2 2 2]\n",
      "[0 0 0 0 0 1 1 1 1 1 2 2 2 2 2]\n"
     ]
    }
   ],
   "source": [
    "from sklearn import cluster, datasets\n",
    "iris = datasets.load_iris()\n",
    "X_iris = iris.data\n",
    "y_iris = iris.target\n",
    "\n",
    "k_means = cluster.KMeans(n_clusters=3)\n",
    "k_means.fit(X_iris) \n",
    "\n",
    "print(k_means.labels_[::10])\n",
    "\n",
    "print(y_iris[::10])"
   ]
  },
  {
   "cell_type": "markdown",
   "metadata": {},
   "source": [
    "**WARNING** 예상과 어긋난 결과가 나올 수 있다. 그 이유는 다음과 같다.\n",
    "1. 클러스터의 수를 정하는 것은 매우 어렵다.\n",
    "2. 알고리즘이 초기화된 값에 따라 결과가 매우 민감하다.\n",
    "\n",
    "따라서 클러스터링된 결과를 _과대 해석_하지 말아야 한다."
   ]
  },
  {
   "cell_type": "code",
   "execution_count": 9,
   "metadata": {},
   "outputs": [],
   "source": [
    "# 예시: Vector Quantization\n",
    "# 클러스터링 또는 K-means는 정보를 압축하기 위해 \n",
    "# 적은 수의 표본을 뽑는 방법으로 볼 수 있음\n",
    "import scipy as sp\n",
    "import numpy as np\n",
    "try:\n",
    "    face = sp.face(gray=True)\n",
    "except AttributeError:\n",
    "    from scipy import misc\n",
    "    face = misc.face(gray=True)\n",
    "X = face.reshape((-1, 1)) # We need an (n_sample, n_feature) array\n",
    "k_means = cluster.KMeans(n_clusters=5, n_init=1)\n",
    "k_means.fit(X) \n",
    "\n",
    "values = k_means.cluster_centers_.squeeze()\n",
    "labels = k_means.labels_\n",
    "face_compressed = np.choose(labels, values)\n",
    "face_compressed.shape = face.shape"
   ]
  },
  {
   "cell_type": "markdown",
   "metadata": {},
   "source": [
    "### Hierarchial agglomerative clusering: Ward\n",
    "* **Agglomerative** - bottom-up 방식으로 각 관측값을 하나의 클러스터로 보고 반복적으로 _linkage_ 깆누을 최소화 하도록 병합한다. 관측값이 적을 때 사용하면 좋다. 클러스터의 수가 많으면 K-means 보다 계산 비용이 적다.\n",
    "* **Divisive** - top-down 방식으로 모든 관측값이 하나의 클러스터로 가정하고 계속 클러스터를 나누어나간다. 계산 비용이 크며(모든 관측값이 하나의 클러스터 --> 재귀적으로 나누어야 함) 통계적으로 ill-posed하다.\n",
    "#### Connectivity-constrained clustering\n",
    "Agglomerative 클러스터링에서 어떤 샘플들이 같은 클러스터링에 속해야하는지 connectivity graph를 통해 정해줄 수 있다. Scikit에서 그래프는 adjacency matrix 형태로 나타낸다. 종종 sparse matrix도 쓰인다. 이는 connected region을 찾는데 유용한다."
   ]
  },
  {
   "cell_type": "code",
   "execution_count": 17,
   "metadata": {},
   "outputs": [
    {
     "name": "stderr",
     "output_type": "stream",
     "text": [
      "/usr/local/lib/python3.5/dist-packages/ipykernel_launcher.py:16: DeprecationWarning: `imresize` is deprecated!\n",
      "`imresize` is deprecated in SciPy 1.0.0, and will be removed in 1.2.0.\n",
      "Use ``skimage.transform.resize`` instead.\n",
      "  app.launch_new_instance()\n"
     ]
    }
   ],
   "source": [
    "import matplotlib.pyplot as plt\n",
    "\n",
    "from sklearn.feature_extraction.image import grid_to_graph\n",
    "from sklearn.cluster import AgglomerativeClustering\n",
    "\n",
    "\n",
    "# #############################################################################\n",
    "# Generate data\n",
    "try:  # SciPy >= 0.16 have face in misc\n",
    "    from scipy.misc import face\n",
    "    face = face(gray=True)\n",
    "except ImportError:\n",
    "    face = sp.face(gray=True)\n",
    "\n",
    "# Resize it to 10% of the original size to speed up the processing\n",
    "face = sp.misc.imresize(face, 0.10) / 255.\n",
    "\n",
    "X = np.reshape(face, (-1, 1))\n",
    "\n",
    "# #############################################################################\n",
    "# Define the structure A of the data. Pixels connected to their neighbors.\n",
    "connectivity = grid_to_graph(*face.shape)\n",
    "\n",
    "# #############################################################################\n"
   ]
  },
  {
   "cell_type": "markdown",
   "metadata": {},
   "source": [
    "#### Feature Agglomeration\n",
    "비슷한 feature끼리 병합하는 방법이다. feature direction을 따라 클러스팅을 수행하는 방식으로 구현된다."
   ]
  },
  {
   "cell_type": "code",
   "execution_count": 19,
   "metadata": {
    "collapsed": true
   },
   "outputs": [],
   "source": [
    "digits = datasets.load_digits()\n",
    "images = digits.images\n",
    "X = np.reshape(images, (len(images), -1))\n",
    "connectivity = grid_to_graph(*images[0].shape)\n",
    "\n",
    "agglo = cluster.FeatureAgglomeration(connectivity=connectivity,\n",
    "                                     n_clusters=32)\n",
    "agglo.fit(X) \n",
    "\n",
    "X_reduced = agglo.transform(X)\n",
    "\n",
    "X_approx = agglo.inverse_transform(X_reduced)\n",
    "images_approx = np.reshape(X_approx, images.shape)"
   ]
  },
  {
   "cell_type": "markdown",
   "metadata": {},
   "source": [
    "일부 estimator는 <code class=\"keras\">transform</code> 메소드와 <code class=\"keras\">inverse_transform</code> 메소드를 가지고 있다."
   ]
  },
  {
   "cell_type": "markdown",
   "metadata": {},
   "source": [
    "### Decomposition"
   ]
  }
 ],
 "metadata": {
  "kernelspec": {
   "display_name": "Python 3",
   "language": "python",
   "name": "python3"
  },
  "language_info": {
   "codemirror_mode": {
    "name": "ipython",
    "version": 3
   },
   "file_extension": ".py",
   "mimetype": "text/x-python",
   "name": "python",
   "nbconvert_exporter": "python",
   "pygments_lexer": "ipython3",
   "version": "3.5.2"
  },
  "toc": {
   "nav_menu": {
    "height": "312px",
    "width": "257px"
   },
   "number_sections": true,
   "sideBar": true,
   "skip_h1_title": false,
   "title_cell": "목차",
   "title_sidebar": "목차",
   "toc_cell": true,
   "toc_position": {
    "height": "215px",
    "left": "671px",
    "top": "106.5px",
    "width": "165px"
   },
   "toc_section_display": true,
   "toc_window_display": true
  }
 },
 "nbformat": 4,
 "nbformat_minor": 2
}
